{
 "cells": [
  {
   "cell_type": "code",
   "execution_count": 1,
   "metadata": {
    "autoscroll": false,
    "ein.tags": "worksheet-0",
    "slideshow": {
     "slide_type": "-"
    }
   },
   "outputs": [],
   "source": [
    "import pyexample"
   ]
  },
  {
   "cell_type": "markdown",
   "metadata": {
    "ein.tags": "worksheet-0",
    "slideshow": {
     "slide_type": "-"
    }
   },
   "source": [
    "# Pybinding a function"
   ]
  },
  {
   "cell_type": "code",
   "execution_count": 2,
   "metadata": {
    "autoscroll": false,
    "cell_style": "center",
    "ein.tags": "worksheet-0",
    "slideshow": {
     "slide_type": "-"
    }
   },
   "outputs": [
    {
     "name": "stdout",
     "output_type": "stream",
     "text": [
      "Help on built-in function add in module pyexample:\n",
      "\n",
      "add(...) method of builtins.PyCapsule instance\n",
      "    add(arg0: int, arg1: int) -> int\n",
      "    \n",
      "    A function adding two arguments\n",
      "\n",
      "3\n"
     ]
    }
   ],
   "source": [
    "help(pyexample.add)\n",
    "print(pyexample.add(1, 2))"
   ]
  },
  {
   "cell_type": "markdown",
   "metadata": {
    "ein.tags": "worksheet-0",
    "slideshow": {
     "slide_type": "-"
    }
   },
   "source": [
    "# Pybinding a function with named parameters"
   ]
  },
  {
   "cell_type": "code",
   "execution_count": 3,
   "metadata": {
    "autoscroll": false,
    "cell_style": "center",
    "ein.tags": "worksheet-0",
    "slideshow": {
     "slide_type": "-"
    }
   },
   "outputs": [
    {
     "name": "stdout",
     "output_type": "stream",
     "text": [
      "Help on built-in function add_withparams in module pyexample:\n",
      "\n",
      "add_withparams(...) method of builtins.PyCapsule instance\n",
      "    add_withparams(i: int, j: int) -> int\n",
      "    \n",
      "    A function adding two named arguments\n",
      "\n",
      "3\n"
     ]
    }
   ],
   "source": [
    "help(pyexample.add_withparams)\n",
    "print(pyexample.add_withparams(j=2, i=1))"
   ]
  },
  {
   "cell_type": "markdown",
   "metadata": {
    "ein.tags": "worksheet-0",
    "slideshow": {
     "slide_type": "-"
    }
   },
   "source": [
    "# Pybinding a function with default parameters"
   ]
  },
  {
   "cell_type": "code",
   "execution_count": 4,
   "metadata": {
    "autoscroll": false,
    "cell_style": "center",
    "ein.tags": "worksheet-0",
    "slideshow": {
     "slide_type": "-"
    }
   },
   "outputs": [
    {
     "name": "stdout",
     "output_type": "stream",
     "text": [
      "Help on built-in function add_withdefaults in module pyexample:\n",
      "\n",
      "add_withdefaults(...) method of builtins.PyCapsule instance\n",
      "    add_withdefaults(i: int=1, j: int=2) -> int\n",
      "    \n",
      "    A function adding two numbers with defaults\n",
      "\n",
      "3\n"
     ]
    }
   ],
   "source": [
    "help(pyexample.add_withdefaults)\n",
    "print(pyexample.add_withdefaults())"
   ]
  },
  {
   "cell_type": "markdown",
   "metadata": {
    "autoscroll": false,
    "ein.tags": "worksheet-0",
    "slideshow": {
     "slide_type": "-"
    }
   },
   "source": [
    "# Pybinding a global/module variable"
   ]
  },
  {
   "cell_type": "code",
   "execution_count": 5,
   "metadata": {
    "autoscroll": false,
    "cell_style": "split",
    "ein.tags": "worksheet-0",
    "slideshow": {
     "slide_type": "-"
    }
   },
   "outputs": [
    {
     "name": "stdout",
     "output_type": "stream",
     "text": [
      "yopla\n"
     ]
    }
   ],
   "source": [
    "print(pyexample.yopla)"
   ]
  },
  {
   "cell_type": "markdown",
   "metadata": {
    "ein.tags": "worksheet-0",
    "slideshow": {
     "slide_type": "-"
    }
   },
   "source": [
    "# Consider the following"
   ]
  },
  {
   "cell_type": "code",
   "execution_count": 6,
   "metadata": {
    "autoscroll": false,
    "cell_style": "center",
    "ein.tags": "worksheet-0",
    "slideshow": {
     "slide_type": "-"
    }
   },
   "outputs": [
    {
     "name": "stdout",
     "output_type": "stream",
     "text": [
      "12\n",
      "1\n",
      "12\n"
     ]
    }
   ],
   "source": [
    "print(pyexample.global_variable)\n",
    "pyexample.global_variable = 1\n",
    "print(pyexample.global_variable)\n",
    "pyexample.print_var()"
   ]
  },
  {
   "cell_type": "markdown",
   "metadata": {
    "ein.tags": "worksheet-0",
    "slideshow": {
     "slide_type": "-"
    }
   },
   "source": [
    "# Pybinding a property"
   ]
  },
  {
   "cell_type": "code",
   "execution_count": 7,
   "metadata": {
    "autoscroll": false,
    "cell_style": "center",
    "ein.tags": "worksheet-0",
    "slideshow": {
     "slide_type": "-"
    }
   },
   "outputs": [
    {
     "name": "stdout",
     "output_type": "stream",
     "text": [
      "<property object at 0x7f434454d0e8>\n",
      "354\n"
     ]
    }
   ],
   "source": [
    "print(pyexample.global_variable_rw)\n",
    "pyexample.global_variable_rw.fset(354)\n",
    "# this do not work !!!\n",
    "# pyexample.global_variable_rw = 2\n",
    "pyexample.print_var()"
   ]
  },
  {
   "cell_type": "markdown",
   "metadata": {
    "ein.tags": "worksheet-0",
    "slideshow": {
     "slide_type": "-"
    }
   },
   "source": [
    "# Pybinding a class"
   ]
  },
  {
   "cell_type": "code",
   "execution_count": 8,
   "metadata": {
    "autoscroll": false,
    "ein.tags": "worksheet-0",
    "slideshow": {
     "slide_type": "-"
    }
   },
   "outputs": [
    {
     "name": "stdout",
     "output_type": "stream",
     "text": [
      "<Animal: kitty>\n",
      "<Animal: puppy>\n",
      "kitty\n",
      "new\n"
     ]
    },
    {
     "data": {
      "text/plain": [
       "'new'"
      ]
     },
     "execution_count": 8,
     "metadata": {},
     "output_type": "execute_result"
    }
   ],
   "source": [
    "a = pyexample.Animal('kitty')\n",
    "b = pyexample.Animal()\n",
    "print(a)\n",
    "print(b)\n",
    "a.scream()\n",
    "print(a.name)\n",
    "a.name = \"new\"\n",
    "print(a.name)\n",
    "a.python_extension()\n",
    "a.name_property"
   ]
  },
  {
   "cell_type": "markdown",
   "metadata": {
    "ein.tags": "worksheet-0",
    "slideshow": {
     "slide_type": "-"
    }
   },
   "source": [
    "# Allowing dynamic allocation of new members"
   ]
  },
  {
   "cell_type": "code",
   "execution_count": 9,
   "metadata": {
    "autoscroll": false,
    "cell_style": "center",
    "ein.tags": "worksheet-0",
    "slideshow": {
     "slide_type": "-"
    }
   },
   "outputs": [
    {
     "name": "stdout",
     "output_type": "stream",
     "text": [
      "{'new_member': 'toto'}\n"
     ]
    }
   ],
   "source": [
    "a.new_member = 'toto'\n",
    "print(a.__dict__)"
   ]
  },
  {
   "cell_type": "markdown",
   "metadata": {
    "ein.tags": "worksheet-0",
    "slideshow": {
     "slide_type": "-"
    }
   },
   "source": [
    "# Pybinding inheritance patterns"
   ]
  },
  {
   "cell_type": "code",
   "execution_count": 10,
   "metadata": {
    "autoscroll": false,
    "ein.tags": "worksheet-0",
    "slideshow": {
     "slide_type": "-"
    }
   },
   "outputs": [
    {
     "name": "stdout",
     "output_type": "stream",
     "text": [
      "Help on method overloadedFoo in module pyexample:\n",
      "\n",
      "overloadedFoo(...) method of pyexample.Dog instance\n",
      "    overloadedFoo(*args, **kwargs)\n",
      "    Overloaded function.\n",
      "    \n",
      "    1. overloadedFoo(self: pyexample.Dog, arg0: int) -> None\n",
      "    \n",
      "    2. overloadedFoo(self: pyexample.Dog, arg0: str) -> None\n",
      "\n"
     ]
    }
   ],
   "source": [
    "dog = pyexample.Dog('poppy')\n",
    "dog.scream()\n",
    "help(dog.overloadedFoo)"
   ]
  },
  {
   "cell_type": "markdown",
   "metadata": {
    "ein.tags": "worksheet-0",
    "slideshow": {
     "slide_type": "-"
    }
   },
   "source": [
    "# Automatic upcasting to true type (overhead)"
   ]
  },
  {
   "cell_type": "code",
   "execution_count": 11,
   "metadata": {
    "autoscroll": false,
    "cell_style": "center",
    "ein.tags": "worksheet-0",
    "slideshow": {
     "slide_type": "-"
    }
   },
   "outputs": [
    {
     "name": "stdout",
     "output_type": "stream",
     "text": [
      "<class 'pyexample.Dog'>\n"
     ]
    }
   ],
   "source": [
    "d = pyexample.makeAnimalUnique()\n",
    "print(type(d))"
   ]
  },
  {
   "cell_type": "markdown",
   "metadata": {
    "ein.tags": "worksheet-0",
    "slideshow": {
     "slide_type": "-"
    }
   },
   "source": [
    "# Pybinding an enum"
   ]
  },
  {
   "cell_type": "code",
   "execution_count": 12,
   "metadata": {
    "autoscroll": false,
    "ein.tags": "worksheet-0",
    "slideshow": {
     "slide_type": "-"
    }
   },
   "outputs": [
    {
     "name": "stdout",
     "output_type": "stream",
     "text": [
      "<class 'pyexample.ParticleType'>\n",
      "{'atom': ParticleType.atom, 'planet': ParticleType.planet, 'pingpongball': ParticleType.pingpongball, 'material': ParticleType.material}\n"
     ]
    }
   ],
   "source": [
    "print(pyexample.ParticleType)\n",
    "print(pyexample.ParticleType.__members__)"
   ]
  },
  {
   "cell_type": "markdown",
   "metadata": {
    "ein.tags": "worksheet-0",
    "slideshow": {
     "slide_type": "-"
    }
   },
   "source": [
    "# Memory management"
   ]
  },
  {
   "cell_type": "code",
   "execution_count": 13,
   "metadata": {
    "autoscroll": false,
    "ein.tags": "worksheet-0",
    "slideshow": {
     "slide_type": "-"
    }
   },
   "outputs": [],
   "source": [
    "# this should create a segmentation fault\n",
    "# a = pyexample.get_animal()\n",
    "# print(a)\n",
    "# del a \n",
    "# a = pyexample.get_animal()"
   ]
  },
  {
   "cell_type": "markdown",
   "metadata": {
    "ein.tags": "worksheet-0",
    "slideshow": {
     "slide_type": "-"
    }
   },
   "source": [
    "# Solution1: asking a copy"
   ]
  },
  {
   "cell_type": "code",
   "execution_count": 14,
   "metadata": {
    "autoscroll": false,
    "ein.tags": "worksheet-0",
    "slideshow": {
     "slide_type": "-"
    }
   },
   "outputs": [
    {
     "name": "stdout",
     "output_type": "stream",
     "text": [
      "<Animal: toto>\n",
      "<Animal: toto>\n"
     ]
    }
   ],
   "source": [
    "a = pyexample.get_animal_copy()\n",
    "print(a)\n",
    "a.name = \"test\"\n",
    "del a\n",
    "a = pyexample.get_animal_copy()\n",
    "print(a)"
   ]
  },
  {
   "cell_type": "markdown",
   "metadata": {
    "autoscroll": false,
    "ein.tags": "worksheet-0",
    "slideshow": {
     "slide_type": "-"
    }
   },
   "source": [
    "# Solution2: by reference (no ownership)"
   ]
  },
  {
   "cell_type": "code",
   "execution_count": 15,
   "metadata": {
    "autoscroll": false,
    "ein.tags": "worksheet-0",
    "slideshow": {
     "slide_type": "-"
    }
   },
   "outputs": [
    {
     "name": "stdout",
     "output_type": "stream",
     "text": [
      "<Animal: toto>\n",
      "<Animal: test>\n"
     ]
    }
   ],
   "source": [
    "a = pyexample.get_animal_reference()\n",
    "print(a)\n",
    "a.name = \"test\"\n",
    "del a\n",
    "a = pyexample.get_animal_reference()\n",
    "print(a)"
   ]
  },
  {
   "cell_type": "markdown",
   "metadata": {
    "ein.tags": "worksheet-0",
    "slideshow": {
     "slide_type": "-"
    }
   },
   "source": [
    "# Using shared pointers"
   ]
  },
  {
   "cell_type": "code",
   "execution_count": 16,
   "metadata": {
    "autoscroll": false,
    "ein.tags": "worksheet-0",
    "slideshow": {
     "slide_type": "-"
    }
   },
   "outputs": [
    {
     "name": "stdout",
     "output_type": "stream",
     "text": [
      "<pyexample.AnimalShared object at 0x7f4344557960>\n"
     ]
    }
   ],
   "source": [
    "a = pyexample.get_shared_ptr()\n",
    "a.name = \"test\"\n",
    "print(a)"
   ]
  },
  {
   "cell_type": "markdown",
   "metadata": {},
   "source": [
    "# Allows to do"
   ]
  },
  {
   "cell_type": "code",
   "execution_count": 17,
   "metadata": {
    "autoscroll": false,
    "ein.tags": "worksheet-0",
    "slideshow": {
     "slide_type": "-"
    }
   },
   "outputs": [],
   "source": [
    "pyexample.register_animal_shared(a)"
   ]
  },
  {
   "cell_type": "markdown",
   "metadata": {
    "ein.tags": "worksheet-0",
    "slideshow": {
     "slide_type": "-"
    }
   },
   "source": [
    "# Manipulating functions"
   ]
  },
  {
   "cell_type": "code",
   "execution_count": 18,
   "metadata": {
    "autoscroll": false,
    "ein.tags": "worksheet-0",
    "slideshow": {
     "slide_type": "-"
    }
   },
   "outputs": [
    {
     "name": "stdout",
     "output_type": "stream",
     "text": [
      "2.0\n",
      "4.0\n",
      "6.0\n",
      "8.0\n"
     ]
    }
   ],
   "source": [
    "pyexample.apply(lambda x: print(x*2))"
   ]
  },
  {
   "cell_type": "markdown",
   "metadata": {
    "ein.tags": "worksheet-0",
    "slideshow": {
     "slide_type": "-"
    }
   },
   "source": [
    "# Exceptions\n",
    "\n"
   ]
  },
  {
   "cell_type": "code",
   "execution_count": 19,
   "metadata": {
    "autoscroll": false,
    "ein.tags": "worksheet-0",
    "slideshow": {
     "slide_type": "-"
    }
   },
   "outputs": [
    {
     "name": "stdout",
     "output_type": "stream",
     "text": [
      "toto\n"
     ]
    }
   ],
   "source": [
    "try:\n",
    "    pyexample._raise()\n",
    "except Exception as e:\n",
    "    print(e)"
   ]
  },
  {
   "cell_type": "code",
   "execution_count": null,
   "metadata": {},
   "outputs": [],
   "source": []
  }
 ],
 "metadata": {
  "hide_input": false,
  "kernelspec": {
   "display_name": "Python 3",
   "language": "python",
   "name": "python3"
  },
  "language_info": {
   "codemirror_mode": {
    "name": "ipython",
    "version": 3
   },
   "file_extension": ".py",
   "mimetype": "text/x-python",
   "name": "python",
   "nbconvert_exporter": "python",
   "pygments_lexer": "ipython3",
   "version": "3.7.3"
  },
  "name": "pybind.ipynb",
  "toc": {
   "nav_menu": {},
   "number_sections": true,
   "sideBar": true,
   "skip_h1_title": false,
   "toc_cell": false,
   "toc_position": {},
   "toc_section_display": "block",
   "toc_window_display": false
  }
 },
 "nbformat": 4,
 "nbformat_minor": 2
}
